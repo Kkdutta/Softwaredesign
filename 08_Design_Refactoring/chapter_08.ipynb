{
 "cells": [
  {
   "cell_type": "markdown",
   "metadata": {},
   "source": [
    "# Design and Refactoring"
   ]
  },
  {
   "cell_type": "markdown",
   "metadata": {},
   "source": [
    "## Coupling"
   ]
  },
  {
   "cell_type": "code",
   "execution_count": null,
   "metadata": {},
   "outputs": [],
   "source": [
    "# Example of tightly coupled functions\n",
    "import pandas as pd\n",
    "from scipy.stats import linregress\n",
    "\n",
    "\n",
    "def process_sdg_data(input_excel_file, columns_to_drop):\n",
    "    df = pd.read_excel(input_excel_file)\n",
    "    df = df.drop(columns_to_drop, axis=1)\n",
    "    df = df.set_index(\"GeoAreaName\").transpose()\n",
    "    return df\n",
    "\n",
    "\n",
    "def fit_trendline(country_name):\n",
    "    df = process_sdg_data(\n",
    "        \"SG_GEN_PARL.xlsx\",\n",
    "        [\n",
    "            \"Goal\",\n",
    "            \"Target\",\n",
    "            \"Indicator\",\n",
    "            \"SeriesCode\",\n",
    "            \"SeriesDescription\",\n",
    "            \"GeoAreaCode\",\n",
    "            \"Reporting Type\",\n",
    "            \"Sex\",\n",
    "            \"Units\",\n",
    "        ],\n",
    "    )\n",
    "    timestamps = [int(i) for i in df.index.tolist()]\n",
    "    data = df[country_name].tolist()\n",
    "\n",
    "    result = linregress(timestamps, data)\n",
    "    slope = round(result.slope, 3)\n",
    "    r_squared = round(result.rvalue**2, 3)\n",
    "    return slope, r_squared"
   ]
  },
  {
   "cell_type": "code",
   "execution_count": null,
   "metadata": {},
   "outputs": [],
   "source": [
    "fit_trendline(\"India\")"
   ]
  },
  {
   "cell_type": "code",
   "execution_count": null,
   "metadata": {},
   "outputs": [],
   "source": [
    "# Loosely coupled functions\n",
    "\n",
    "import pandas as pd\n",
    "from scipy.stats import linregress\n",
    "\n",
    "\n",
    "def fit_trendline(year_timestamps, data):\n",
    "    result = linregress(year_timestamps, data)\n",
    "    slope = round(result.slope, 3)\n",
    "    r_squared = round(result.rvalue**2, 3)\n",
    "    return slope, r_squared\n",
    "\n",
    "\n",
    "def process_sdg_data(input_excel_file, columns_to_drop):\n",
    "    df = pd.read_excel(input_excel_file)\n",
    "    df = df.drop(columns_to_drop, axis=1)\n",
    "    df = df.set_index(\"GeoAreaName\").transpose()\n",
    "    return df\n",
    "\n",
    "\n",
    "df = process_sdg_data(\n",
    "    \"SG_GEN_PARL.xlsx\",\n",
    "    [\n",
    "        \"Goal\",\n",
    "        \"Target\",\n",
    "        \"Indicator\",\n",
    "        \"SeriesCode\",\n",
    "        \"SeriesDescription\",\n",
    "        \"GeoAreaCode\",\n",
    "        \"Reporting Type\",\n",
    "        \"Sex\",\n",
    "        \"Units\",\n",
    "    ],\n",
    ")\n",
    "timestamps = [int(i) for i in df.index.tolist()]\n",
    "country_data = df[\"India\"].tolist()\n",
    "slope, r_squared = fit_trendline(timestamps, country_data)"
   ]
  },
  {
   "cell_type": "code",
   "execution_count": null,
   "metadata": {},
   "outputs": [],
   "source": [
    "slope"
   ]
  },
  {
   "cell_type": "markdown",
   "metadata": {},
   "source": [
    "## Creating Scripts From Notebooks"
   ]
  },
  {
   "cell_type": "code",
   "execution_count": null,
   "metadata": {},
   "outputs": [],
   "source": [
    "import pandas as pd"
   ]
  },
  {
   "cell_type": "code",
   "execution_count": null,
   "metadata": {},
   "outputs": [],
   "source": [
    "def process_sdg_data(input_excel_file, columns_to_drop, output_csv_file):\n",
    "    df = pd.read_excel(input_excel_file)\n",
    "    df = df.drop(columns_to_drop, axis=1)\n",
    "    df = df.set_index(\"GeoAreaName\").transpose()\n",
    "    df.to_csv(output_csv_file, index=\"GeoAreaName\")"
   ]
  },
  {
   "cell_type": "code",
   "execution_count": null,
   "metadata": {},
   "outputs": [],
   "source": [
    "import os\n",
    "\n",
    "\n",
    "def test_process_sdg_data():\n",
    "\n",
    "    test_filepath = \"test_sgd_data.csv\"\n",
    "\n",
    "    process_sdg_data(\n",
    "        \"../data/SG_GEN_PARL.xlsx\",\n",
    "        [\n",
    "            \"Goal\",\n",
    "            \"Target\",\n",
    "            \"Indicator\",\n",
    "            \"SeriesCode\",\n",
    "            \"SeriesDescription\",\n",
    "            \"GeoAreaCode\",\n",
    "            \"Reporting Type\",\n",
    "            \"Sex\",\n",
    "            \"Units\",\n",
    "        ],\n",
    "        test_filepath,\n",
    "    )\n",
    "\n",
    "    df = pd.read_csv(test_filepath)\n",
    "\n",
    "    assert len(df) == 24\n",
    "    assert len(df.columns) == 196\n",
    "\n",
    "    # cleanup step - delete the file produced in the test\n",
    "    os.remove(test_filepath)"
   ]
  },
  {
   "cell_type": "code",
   "execution_count": null,
   "metadata": {},
   "outputs": [],
   "source": [
    "test_process_sdg_data()"
   ]
  },
  {
   "cell_type": "code",
   "execution_count": null,
   "metadata": {},
   "outputs": [],
   "source": []
  }
 ],
 "metadata": {
  "kernelspec": {
   "display_name": "book",
   "language": "python",
   "name": "python3"
  },
  "language_info": {
   "codemirror_mode": {
    "name": "ipython",
    "version": 3
   },
   "file_extension": ".py",
   "mimetype": "text/x-python",
   "name": "python",
   "nbconvert_exporter": "python",
   "pygments_lexer": "ipython3",
   "version": "3.10.4"
  }
 },
 "nbformat": 4,
 "nbformat_minor": 2
}
