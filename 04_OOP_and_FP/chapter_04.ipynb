{
 "cells": [
  {
   "cell_type": "markdown",
   "metadata": {},
   "source": [
    "## Object-oriented programming\n",
    "\n",
    "### Defining your own classes"
   ]
  },
  {
   "cell_type": "code",
   "execution_count": null,
   "metadata": {},
   "outputs": [],
   "source": [
    "class RepeatText:\n",
    "\n",
    "    def __init__(self, n_repeats):\n",
    "        self.n_repeats = n_repeats\n",
    "\n",
    "    def multiply_text(self, some_text):\n",
    "        print((some_text + \" \") * self.n_repeats)"
   ]
  },
  {
   "cell_type": "code",
   "execution_count": null,
   "metadata": {},
   "outputs": [],
   "source": [
    "repeat_twice = RepeatText(2)"
   ]
  },
  {
   "cell_type": "code",
   "execution_count": null,
   "metadata": {},
   "outputs": [],
   "source": [
    "repeat_twice.multiply_text(\"hello\")"
   ]
  },
  {
   "cell_type": "code",
   "execution_count": null,
   "metadata": {},
   "outputs": [],
   "source": [
    "import numpy as np"
   ]
  },
  {
   "cell_type": "code",
   "execution_count": null,
   "metadata": {},
   "outputs": [],
   "source": [
    "class Goal5Data:\n",
    "\n",
    "    def __init__(self, name, population, women_in_parliament):\n",
    "        self.name = name\n",
    "        self.population = population\n",
    "        self.women_in_parliament = women_in_parliament\n",
    "\n",
    "    def print_summary(self):\n",
    "        null_women_in_parliament = len(self.women_in_parliament) - np.count_nonzero(\n",
    "            self.women_in_parliament\n",
    "        )\n",
    "        print(\n",
    "            f\"There are {len(self.women_in_parliament)} data points for Indicator 5.1.1, 'Proportion of seats held by women in national parliaments'.\"\n",
    "        )\n",
    "        print(f\"{null_women_in_parliament} are nulls.\")"
   ]
  },
  {
   "cell_type": "code",
   "execution_count": null,
   "metadata": {},
   "outputs": [],
   "source": [
    "usa = Goal5Data(\n",
    "    name=\"USA\",\n",
    "    population=336262544,\n",
    "    women_in_parliament=[\n",
    "        13.33,\n",
    "        14.02,\n",
    "        14.02,\n",
    "        14.25,\n",
    "        14.25,\n",
    "        14.94,\n",
    "        15.17,\n",
    "        16.32,\n",
    "        16.78,\n",
    "        17.01,\n",
    "        16.78,\n",
    "        16.78,\n",
    "        16.82,\n",
    "        17.78,\n",
    "        18.29,\n",
    "        19.35,\n",
    "        19.35,\n",
    "        19.08,\n",
    "        19.49,\n",
    "        23.56,\n",
    "        23.43,\n",
    "        27.25,\n",
    "        27.71,\n",
    "        29.43,\n",
    "    ],\n",
    ")"
   ]
  },
  {
   "cell_type": "code",
   "execution_count": null,
   "metadata": {},
   "outputs": [],
   "source": [
    "usa.population"
   ]
  },
  {
   "cell_type": "code",
   "execution_count": null,
   "metadata": {},
   "outputs": [],
   "source": [
    "usa.print_summary()"
   ]
  },
  {
   "cell_type": "markdown",
   "metadata": {},
   "source": [
    "### OOP Principles"
   ]
  },
  {
   "cell_type": "code",
   "execution_count": null,
   "metadata": {},
   "outputs": [],
   "source": [
    "from scipy.stats import linregress\n",
    "\n",
    "\n",
    "class Goal5TimeSeries(Goal5Data):\n",
    "    def __init__(self, name, population, women_in_parliament, timestamps):\n",
    "        super().__init__(name, population, women_in_parliament)\n",
    "        self.timestamps = timestamps\n",
    "\n",
    "    def fit_trendline(self):\n",
    "        result = linregress(self.timestamps, self.women_in_parliament)\n",
    "        slope = round(result.slope, 3)\n",
    "        r_squared = round(result.rvalue**2, 3)\n",
    "        return slope, r_squared"
   ]
  },
  {
   "cell_type": "code",
   "execution_count": null,
   "metadata": {},
   "outputs": [],
   "source": [
    "india = Goal5TimeSeries(\n",
    "    name=\"India\",\n",
    "    population=1417242151,\n",
    "    women_in_parliament=[\n",
    "        9.02,\n",
    "        9.01,\n",
    "        8.84,\n",
    "        8.84,\n",
    "        8.84,\n",
    "        8.29,\n",
    "        8.26,\n",
    "        8.26,\n",
    "        9.06,\n",
    "        9.06,\n",
    "        10.83,\n",
    "        10.83,\n",
    "        11.01,\n",
    "        11.01,\n",
    "        11.38,\n",
    "        11.97,\n",
    "        11.97,\n",
    "        11.81,\n",
    "        11.81,\n",
    "        12.6,\n",
    "        14.36,\n",
    "        14.44,\n",
    "        14.94,\n",
    "        15.13,\n",
    "    ],\n",
    "    timestamps=[\n",
    "        2000,\n",
    "        2001,\n",
    "        2002,\n",
    "        2003,\n",
    "        2004,\n",
    "        2005,\n",
    "        2006,\n",
    "        2007,\n",
    "        2008,\n",
    "        2009,\n",
    "        2010,\n",
    "        2011,\n",
    "        2012,\n",
    "        2013,\n",
    "        2014,\n",
    "        2015,\n",
    "        2016,\n",
    "        2017,\n",
    "        2018,\n",
    "        2019,\n",
    "        2020,\n",
    "        2021,\n",
    "        2022,\n",
    "        2023,\n",
    "    ],\n",
    ")"
   ]
  },
  {
   "cell_type": "code",
   "execution_count": null,
   "metadata": {},
   "outputs": [],
   "source": [
    "india.print_summary()"
   ]
  },
  {
   "cell_type": "code",
   "execution_count": null,
   "metadata": {},
   "outputs": [],
   "source": [
    "india.fit_trendline()"
   ]
  },
  {
   "attachments": {},
   "cell_type": "markdown",
   "metadata": {},
   "source": [
    "## Functional programming"
   ]
  },
  {
   "cell_type": "code",
   "execution_count": null,
   "metadata": {},
   "outputs": [],
   "source": [
    "usa_govt_percentages = [\n",
    "    13.33,\n",
    "    14.02,\n",
    "    14.02,\n",
    "    14.25,\n",
    "    14.25,\n",
    "    14.94,\n",
    "    15.17,\n",
    "    16.32,\n",
    "    16.78,\n",
    "    17.01,\n",
    "    16.78,\n",
    "    16.78,\n",
    "    16.82,\n",
    "    17.78,\n",
    "    18.29,\n",
    "    19.35,\n",
    "    19.35,\n",
    "    19.08,\n",
    "    19.49,\n",
    "    23.56,\n",
    "    23.43,\n",
    "    27.25,\n",
    "    27.71,\n",
    "    29.43,\n",
    "]"
   ]
  },
  {
   "cell_type": "code",
   "execution_count": null,
   "metadata": {},
   "outputs": [],
   "source": [
    "usa_govt_proportions = list(map(lambda x: x / 100, usa_govt_percentages))"
   ]
  },
  {
   "cell_type": "code",
   "execution_count": null,
   "metadata": {},
   "outputs": [],
   "source": [
    "usa_govt_proportions"
   ]
  },
  {
   "cell_type": "code",
   "execution_count": null,
   "metadata": {},
   "outputs": [],
   "source": [
    "integer_list = [1, 2, 3, 4, 5, 6, 7, 8, 9, 10]\n",
    "\n",
    "squared_integers = list(map(lambda x: x**2, integer_list))\n",
    "\n",
    "squared_integers"
   ]
  }
 ],
 "metadata": {
  "kernelspec": {
   "display_name": "book",
   "language": "python",
   "name": "python3"
  },
  "language_info": {
   "codemirror_mode": {
    "name": "ipython",
    "version": 3
   },
   "file_extension": ".py",
   "mimetype": "text/x-python",
   "name": "python",
   "nbconvert_exporter": "python",
   "pygments_lexer": "ipython3",
   "version": "3.10.4"
  }
 },
 "nbformat": 4,
 "nbformat_minor": 2
}
